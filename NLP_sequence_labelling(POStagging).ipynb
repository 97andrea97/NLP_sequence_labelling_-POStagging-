{
  "nbformat": 4,
  "nbformat_minor": 0,
  "metadata": {
    "colab": {
      "name": "NLP_sequence_labelling(POStagging).ipynb",
      "provenance": [],
      "collapsed_sections": [],
      "toc_visible": true
    },
    "kernelspec": {
      "display_name": "Python 3",
      "name": "python3"
    },
    "accelerator": "GPU"
  },
  "cells": [
    {
      "cell_type": "markdown",
      "metadata": {
        "id": "XWQeOTi28VPr"
      },
      "source": [
        "# Sequence labelling (POS tagging) with RNNs\n",
        "\n",
        "Followed steps:\n",
        "\n",
        "*   Download the corpora and split it in training and test sets, structuring a dataframe.\n",
        "*   Embed the words using GloVe embeddings\n",
        "*   Create a baseline model, using a simple neural architecture\n",
        "*   Experiment doing small modifications to the model\n",
        "*   Evaluate your best model\n",
        "*   Analyze the errors of your model\n",
        "\n",
        "**Corpora**:\n",
        "Ignore the numeric value in the third column, use only the words/symbols and its label (use only the first two columns).\n",
        "https://raw.githubusercontent.com/nltk/nltk_data/gh-pages/packages/corpora/dependency_treebank.zip \n",
        "\n",
        "**Splits**: documents 1-100 are the train set, 101-150 validation set, 151-199 test set.\n",
        "\n",
        "**Architectures implemented:**\n",
        "\n",
        "1) BiLSTM + FC.\n",
        "\n",
        "2) BiGRU + FC.\n",
        "\n",
        "3) BiLSTMx2 + FC.\n",
        "\n",
        "4) BiLSTM + FC + CRF.\n",
        "\n"
      ]
    },
    {
      "cell_type": "markdown",
      "metadata": {
        "id": "JPu4xkp7r9eu"
      },
      "source": [
        "# Libraries and fixed seed:"
      ]
    },
    {
      "cell_type": "code",
      "metadata": {
        "id": "8Dq1sRGep6oo"
      },
      "source": [
        "import math\n",
        "import random\n",
        "import torch\n",
        "import torch.nn as nn\n",
        "import numpy as np\n",
        "import matplotlib.pyplot as plt\n",
        "\n",
        "from torch import nn, optim, utils\n",
        "import torch.nn.functional as F\n",
        "\n",
        "# function taken from ML4CV course (Prof. Samuele Salti) notebooks:\n",
        "def fix_random(seed: int) -> None:\n",
        "    \"\"\"Fix all the possible sources of randomness.\n",
        "\n",
        "    Args:\n",
        "        seed: the seed to use. \n",
        "    \"\"\"\n",
        "    # Add comment for each random seed\n",
        "    np.random.seed(seed)\n",
        "    random.seed(seed)\n",
        "    torch.manual_seed(seed)\n",
        "    torch.cuda.manual_seed(seed)\n",
        "\n",
        "    torch.backends.cudnn.benchmark = False  \n",
        "    # benchmark = False means that cuda doesn't look for the optimal algorithm for your hardware, \n",
        "    # so it become slower but you need it for removing randomness.\n",
        "    # But remember that it has this price, so do it only for fast experiments.\n",
        "\n",
        "    torch.backends.cudnn.deterministic = True\n"
      ],
      "execution_count": null,
      "outputs": []
    },
    {
      "cell_type": "code",
      "metadata": {
        "id": "nkk5wRhjFMqb"
      },
      "source": [
        "fix_random(seed=100)"
      ],
      "execution_count": null,
      "outputs": []
    },
    {
      "cell_type": "markdown",
      "metadata": {
        "id": "1AJczwF7Z2MI"
      },
      "source": [
        "# DATA\n"
      ]
    },
    {
      "cell_type": "markdown",
      "metadata": {
        "id": "7TdZZcK0HyMY"
      },
      "source": [
        "## Loading Data:"
      ]
    },
    {
      "cell_type": "code",
      "metadata": {
        "id": "Xm5riaWIJP48"
      },
      "source": [
        "from io import BytesIO\n",
        "from urllib.request import urlopen\n",
        "from zipfile import ZipFile\n",
        "\n",
        "zipurl = 'https://raw.githubusercontent.com/nltk/nltk_data/gh-pages/packages/corpora/dependency_treebank.zip'\n",
        "with urlopen(zipurl) as zipresp:\n",
        "    with ZipFile(BytesIO(zipresp.read())) as zfile:\n",
        "        zfile.extractall('dataset_folder')"
      ],
      "execution_count": null,
      "outputs": []
    },
    {
      "cell_type": "markdown",
      "metadata": {
        "id": "KPNVhcA6KcIh"
      },
      "source": [
        "## Creating DataFrame and split:\n",
        "\n",
        "Convert the data folder into a pandas DataFrame and split it into training + validation + test sets.\n",
        "\n",
        "Splits: documents 1-100 are the train set, 101-150 validation set, 151-199 test set.\n",
        "\n",
        "I split the data in sentences AND documents (for the training set):\n",
        "\n",
        "- I tried both approaches separately and splitting in sentences gave better results. But since the test set will be used only splitted in documents It's better to train the model on both kind of data input, so that it can also learn to exploit the previous sentence to tag the next one, and maybe have better results on the test set.\n",
        "\n",
        "I split the data in documents for the validation and test sets:\n",
        "\n",
        " - I split the validation set in documents give results which I expect to be more similar to the prediction on the test set which must be splitted in documents.\n",
        "\n",
        "I create the POS tags vocabulary and make sure that there are no POS tags in the test set or in the validation set which are unknown in the training set.\n",
        "\n",
        "I don't build a corpus vocabulary since I don't need in my code to associate words with a single number and I don't need to build a vocabulary to associate the embedding vector to each word since the embeddding model is efficient to be accessed to and I can directly add the OOV words to it.\n",
        "\n",
        "I simply use random vectors for OOV words since from the error analysis I don't expect a big improvement using a more complex dealing of them."
      ]
    },
    {
      "cell_type": "code",
      "metadata": {
        "colab": {
          "base_uri": "https://localhost:8080/"
        },
        "id": "mB88-3o4Kmu_",
        "outputId": "a217308e-537f-417d-946b-dd8626499c77"
      },
      "source": [
        "import os\n",
        "import csv\n",
        "import pandas as pd\n",
        "from nltk import tokenize\n",
        "import nltk\n",
        "nltk.download('punkt')\n",
        "\n",
        "\n",
        "df_rows = []\n",
        "unique_POS = set({})\n",
        "total_POS = set({})\n",
        "\n",
        "folder = os.path.join(os.getcwd(), \"dataset_folder/dependency_treebank\")\n",
        "i = 0\n",
        "split = 'train'\n",
        "for filename in sorted(os.listdir(folder)):\n",
        "  if i > 99:\n",
        "    split = 'val'\n",
        "  if i > 149:\n",
        "    split = 'test'\n",
        "  file_path = os.path.join(folder, filename)\n",
        "  total_words = 0\n",
        "  with open(file_path, mode='r', encoding='utf-8') as document:\n",
        "                            doc = pd.read_csv(document, sep='\\t',header=None)\n",
        "                            doc.rename(columns={0: 'word', 1: 'POS', 2:'del'}, inplace=True)\n",
        "                            doc.drop('del', axis = 'columns' ,inplace= True)\n",
        "                            words_list = doc['word'].tolist()\n",
        "                            total_words += len(words_list)\n",
        "                            POS_list = doc['POS'].tolist()\n",
        "                            if split == 'train': unique_POS.update(POS_list)  # creating set of POS from training set      \n",
        "                            total_POS.update(POS_list)  # unique set of POS of all the dataset  \n",
        "                            df_row = {\"split\":split, 'doc': i, \"type\": \"document\", \"words\" : words_list, \"POS\" : POS_list}\n",
        "                            df_rows.append(df_row)\n",
        "\n",
        "                            if i<= 99:\n",
        "                              ########### split into sentences:\n",
        "                              text = ' '.join(words_list)\n",
        "                              text = text[:] # i need it as a string type\n",
        "                              n = 0\n",
        "                              sentences = tokenize.sent_tokenize(text)\n",
        "                              for sent in sentences:\n",
        "                                 spl = sent.split()\n",
        "                                 pos = POS_list[n:n+len(spl)]\n",
        "                                 df_row = {\"split\":split, 'doc': i, \"type\": \"sentence\", \"words\" : spl, \"POS\" : pos}\n",
        "                                 n += len(spl)\n",
        "                                 df_rows.append(df_row)\n",
        "  i+=1\n",
        "\n",
        "df = pd.DataFrame(df_rows)\n",
        "df.head()\n",
        "if unique_POS == total_POS: print(\"\\n GOOD NEWS: there are no POS tags in the val and train set which are not in the training set.\") \n",
        "else: print(\"BAD NEWS: val or test set contains POS tags which are not in the train set\")\n",
        "\n",
        "# create a dictionary that maps POS to indices\n",
        "POS2idx = {POS : idx for idx,POS in enumerate(unique_POS)}\n",
        "idx2POS = {idx: POS for idx,POS in enumerate(unique_POS)}\n",
        "\n",
        "\n",
        "# prepare datasets:\n",
        "train_df = df.loc[df['split'] == 'train']\n",
        "val_df = df.loc[df['split'] == 'val']\n",
        "test_df = df.loc[df['split'] == 'test']"
      ],
      "execution_count": null,
      "outputs": [
        {
          "output_type": "stream",
          "text": [
            "[nltk_data] Downloading package punkt to /root/nltk_data...\n",
            "[nltk_data]   Package punkt is already up-to-date!\n",
            "\n",
            " GOOD NEWS: there are no POS tags in the val and train set which are not in the training set.\n"
          ],
          "name": "stdout"
        }
      ]
    },
    {
      "cell_type": "markdown",
      "metadata": {
        "id": "XQeIofWf7KwH"
      },
      "source": [
        "## Visualizing the data:"
      ]
    },
    {
      "cell_type": "code",
      "metadata": {
        "colab": {
          "base_uri": "https://localhost:8080/",
          "height": 189
        },
        "id": "N8hWKhLD0Ck4",
        "outputId": "8b2e0a30-7f62-4a1d-e616-a9148bae3838"
      },
      "source": [
        "df.head()"
      ],
      "execution_count": null,
      "outputs": [
        {
          "output_type": "execute_result",
          "data": {
            "text/html": [
              "<div>\n",
              "<style scoped>\n",
              "    .dataframe tbody tr th:only-of-type {\n",
              "        vertical-align: middle;\n",
              "    }\n",
              "\n",
              "    .dataframe tbody tr th {\n",
              "        vertical-align: top;\n",
              "    }\n",
              "\n",
              "    .dataframe thead th {\n",
              "        text-align: right;\n",
              "    }\n",
              "</style>\n",
              "<table border=\"1\" class=\"dataframe\">\n",
              "  <thead>\n",
              "    <tr style=\"text-align: right;\">\n",
              "      <th></th>\n",
              "      <th>split</th>\n",
              "      <th>doc</th>\n",
              "      <th>type</th>\n",
              "      <th>words</th>\n",
              "      <th>POS</th>\n",
              "    </tr>\n",
              "  </thead>\n",
              "  <tbody>\n",
              "    <tr>\n",
              "      <th>0</th>\n",
              "      <td>train</td>\n",
              "      <td>0</td>\n",
              "      <td>document</td>\n",
              "      <td>[Pierre, Vinken, ,, 61, years, old, ,, will, j...</td>\n",
              "      <td>[NNP, NNP, ,, CD, NNS, JJ, ,, MD, VB, DT, NN, ...</td>\n",
              "    </tr>\n",
              "    <tr>\n",
              "      <th>1</th>\n",
              "      <td>train</td>\n",
              "      <td>0</td>\n",
              "      <td>sentence</td>\n",
              "      <td>[Pierre, Vinken, ,, 61, years, old, ,, will, j...</td>\n",
              "      <td>[NNP, NNP, ,, CD, NNS, JJ, ,, MD, VB, DT, NN, ...</td>\n",
              "    </tr>\n",
              "    <tr>\n",
              "      <th>2</th>\n",
              "      <td>train</td>\n",
              "      <td>0</td>\n",
              "      <td>sentence</td>\n",
              "      <td>[Mr., Vinken, is, chairman, of, Elsevier, N.V....</td>\n",
              "      <td>[NNP, NNP, VBZ, NN, IN, NNP, NNP, ,, DT, NNP, ...</td>\n",
              "    </tr>\n",
              "    <tr>\n",
              "      <th>3</th>\n",
              "      <td>train</td>\n",
              "      <td>1</td>\n",
              "      <td>document</td>\n",
              "      <td>[Rudolph, Agnew, ,, 55, years, old, and, forme...</td>\n",
              "      <td>[NNP, NNP, ,, CD, NNS, JJ, CC, JJ, NN, IN, NNP...</td>\n",
              "    </tr>\n",
              "    <tr>\n",
              "      <th>4</th>\n",
              "      <td>train</td>\n",
              "      <td>1</td>\n",
              "      <td>sentence</td>\n",
              "      <td>[Rudolph, Agnew, ,, 55, years, old, and, forme...</td>\n",
              "      <td>[NNP, NNP, ,, CD, NNS, JJ, CC, JJ, NN, IN, NNP...</td>\n",
              "    </tr>\n",
              "  </tbody>\n",
              "</table>\n",
              "</div>"
            ],
            "text/plain": [
              "   split  ...                                                POS\n",
              "0  train  ...  [NNP, NNP, ,, CD, NNS, JJ, ,, MD, VB, DT, NN, ...\n",
              "1  train  ...  [NNP, NNP, ,, CD, NNS, JJ, ,, MD, VB, DT, NN, ...\n",
              "2  train  ...  [NNP, NNP, VBZ, NN, IN, NNP, NNP, ,, DT, NNP, ...\n",
              "3  train  ...  [NNP, NNP, ,, CD, NNS, JJ, CC, JJ, NN, IN, NNP...\n",
              "4  train  ...  [NNP, NNP, ,, CD, NNS, JJ, CC, JJ, NN, IN, NNP...\n",
              "\n",
              "[5 rows x 5 columns]"
            ]
          },
          "metadata": {
            "tags": []
          },
          "execution_count": 23
        }
      ]
    },
    {
      "cell_type": "code",
      "metadata": {
        "colab": {
          "base_uri": "https://localhost:8080/"
        },
        "id": "HLLl2m13zlGI",
        "outputId": "d5150608-28bb-4062-c52c-34986fe55bbf"
      },
      "source": [
        "print(\"number of sentences in the training set:\", len(train_df))\n",
        "print(\"number of sentences in the validation set:\",len(val_df))\n",
        "print(\"number of sentences in the test set:\", len(test_df))"
      ],
      "execution_count": null,
      "outputs": [
        {
          "output_type": "stream",
          "text": [
            "number of sentences in the training set: 2090\n",
            "number of sentences in the validation set: 50\n",
            "number of sentences in the test set: 49\n"
          ],
          "name": "stdout"
        }
      ]
    },
    {
      "cell_type": "code",
      "metadata": {
        "colab": {
          "base_uri": "https://localhost:8080/"
        },
        "id": "ext7xBl74h3Q",
        "outputId": "c231f305-7f51-42f4-bf0b-646c13756b07"
      },
      "source": [
        "all_POS = list(POS2idx.keys())\n",
        "dict_all_words = { key : set([]) for key in all_POS}\n",
        "\n",
        "i = 0\n",
        "for row in df.iterrows():\n",
        "  i+=1\n",
        "  words = row[1]['words']\n",
        "  POS = row[1]['POS']\n",
        "  for i in range(len(words)):\n",
        "      if len(dict_all_words[POS[i]]) < 10:\n",
        "          dict_all_words[POS[i]].add(words[i])\n",
        "\n",
        "\n",
        "print(\"Some examples for each tag:\\n\")\n",
        "for key,value in dict_all_words.items():\n",
        "  print(POS2idx[key],key, \"  ->  \", value)\n"
      ],
      "execution_count": null,
      "outputs": [
        {
          "output_type": "stream",
          "text": [
            "Some examples for each tag:\n",
            "\n",
            "0 VBP   ->   {'argue', 'expect', 'show', 'have', 'are', 'permit', \"'re\", 'assume', 'study', 'appear'}\n",
            "1 NNPS   ->   {'Netherlands', 'Dealers', 'Preferences', 'Securities', 'Springs', 'Machines', 'Instruments', 'Toys', 'Islands', 'Utilities'}\n",
            "2 LS   ->   {'2', '4', '5', '3', 'b', '1', 'a'}\n",
            "3 CD   ->   {'61', '1950s', '9.8', '55', '1953', 'billion', '1955', '30', '29', '1956'}\n",
            "4 $   ->   {'$', 'US$', 'C$'}\n",
            "5 UH   ->   {'Oh', 'no', 'OK'}\n",
            "6 RBR   ->   {'less', 'earlier', 'better', 'never', 'more', 'further', 'drearier', 'longer', 'later', 'More'}\n",
            "7 VBD   ->   {'said', 'reported', 'stopped', 'heard', 'studied', 'worked', 'were', 'led', 'was', 'explained'}\n",
            "8 WRB   ->   {'When', 'Why', 'how', 'whereby', 'How', 'Where', 'why', 'where', 'whenever', 'when'}\n",
            "9 -LRB-   ->   {'-LRB-', '-LCB-'}\n",
            "10 POS   ->   {\"'s\", \"'\"}\n",
            "11 MD   ->   {'will', 'can', 'should', 'could', 'ca', 'may', 'might', \"'d\", 'must', 'would'}\n",
            "12 PRP$   ->   {'his', 'their', 'your', 'its', 'Their', 'her', 'Her', 'Its', 'His', 'our'}\n",
            "13 #   ->   {'#'}\n",
            "14 NNP   ->   {'Dutch', 'Rudolph', 'Agnew', 'Pierre', 'Consolidated', 'Vinken', 'N.V.', 'Mr.', 'Elsevier', 'Nov.'}\n",
            "15 TO   ->   {'to', 'To', 'TO'}\n",
            "16 -RRB-   ->   {'-RRB-', '-RCB-'}\n",
            "17 JJS   ->   {'largest', 'latest', 'most', 'highest', 'best', 'longest', 'hottest', 'third-highest', 'least', 'earliest'}\n",
            "18 ''   ->   {\"'\", \"''\"}\n",
            "19 DT   ->   {'the', 'an', 'Neither', 'this', 'The', 'This', 'any', 'A', 'a', 'no'}\n",
            "20 WP$   ->   {'whose'}\n",
            "21 VB   ->   {'slide', 'have', 'be', 'recognize', 'regulate', 'indicate', 'make', 'bring', 'support', 'join'}\n",
            "22 PDT   ->   {'half', 'Such', 'All', 'such', 'all', 'both'}\n",
            "23 ,   ->   {'Wa', ','}\n",
            "24 EX   ->   {'There', 'there'}\n",
            "25 VBG   ->   {'making', 'talking', 'using', 'having', 'remaining', 'causing', 'surviving', 'according', 'including', 'publishing'}\n",
            "26 RBS   ->   {'Most', 'most'}\n",
            "27 JJ   ->   {'high', 'New', 'old', 'British', 'resilient', 'nonexecutive', 'industrial', 'later', 'brief', 'former'}\n",
            "28 SYM   ->   {'&'}\n",
            "29 RP   ->   {'up', 'on', 'about', 'across', 'in', 'out', 'off', 'down', 'together', 'away'}\n",
            "30 PRP   ->   {'you', 'us', 'he', 'He', 'them', 'we', 'they', 'It', 'We', 'it'}\n",
            "31 FW   ->   {'etc.', 'besuboru', 'Perestroika', 'de'}\n",
            "32 IN   ->   {'once', 'about', 'with', 'in', 'than', 'of', 'as', 'among', 'ago', 'Although'}\n",
            "33 RB   ->   {'now', 'once', 'probably', 'even', 'stringently', 'very', 'unusually', 'far', 'recently', 'closely'}\n",
            "34 NNS   ->   {'lungs', 'filters', 'decades', 'researchers', 'symptoms', 'exposures', 'deaths', 'workers', 'years', 'cigarettes'}\n",
            "35 :   ->   {'--', '...', '-', ';', ':'}\n",
            "36 VBN   ->   {'used', 'reported', 'exposed', 'died', 'diagnosed', 'replaced', 'named', 'expected', 'sold', 'caused'}\n",
            "37 .   ->   {'!', '.', '?'}\n",
            "38 WP   ->   {'what', 'who', 'Who', 'whom', 'What'}\n",
            "39 CC   ->   {'plus', 'either', 'Yet', 'but', 'And', 'nor', '&', 'and', 'But', 'or'}\n",
            "40 JJR   ->   {'Shorter', 'stronger', 'higher', 'lower', 'earlier', 'lesser', 'more', 'longer', 'Longer', 'More'}\n",
            "41 VBZ   ->   {'does', 'enters', 'continues', 'invests', 'boosts', 'is', 'makes', \"'s\", 'has', 'appears'}\n",
            "42 WDT   ->   {'what', 'whichever', 'that', 'THAT', 'That', 'which'}\n",
            "43 ``   ->   {'``', '`'}\n",
            "44 NN   ->   {'director', 'cancer', 'chairman', 'cigarette', 'board', 'percentage', 'asbestos', 'form', 'group', 'conglomerate'}\n"
          ],
          "name": "stdout"
        }
      ]
    },
    {
      "cell_type": "markdown",
      "metadata": {
        "id": "HNemFJEac272"
      },
      "source": [
        "## Dealing with imbalanced data:\n",
        "\n",
        "\n"
      ]
    },
    {
      "cell_type": "markdown",
      "metadata": {
        "id": "gbi2DFLwGuj-"
      },
      "source": [
        "## Weighted loss.\n",
        "\n",
        "Basic idea from the paper: \"Class-Balanced Loss Based on Effective Number of Samples\".\n",
        "I've applied the technique based on the frequency but it wasn't effective. \n",
        "\n",
        "Probably the reason is that in this task the frequency is not the only matter: there are classes which are frequent but which have a lot of different words! \n",
        "I call the \"ambiguity\" = the number of different words belonging to the class.\n",
        "(or better I call it \"intra_ambiguity\" to distinguish it to the \"inter_ambiguity\").\n",
        "So it seems reasonable to compute the weights depending on the inverse of the ratio frequency/ambiguity. I implemented the weighted loss based on this ratio, but it tourned out to not be so reliable, maybe because the support changes too much between classes.\n",
        "\n",
        "So I implemented a weighted loss manually deciding which classes are the most difficult to be classified: the ones with higher \"inter ambiguity\" = high between classes which intersection is not empty or/and which words have similar shapes, for instance the classes \"NNPS\" and \"NNS\"."
      ]
    },
    {
      "cell_type": "code",
      "metadata": {
        "id": "8gIw3nnRJ4pw"
      },
      "source": [
        "############### COMPUTING SUPPORT AND AMBIGUITY FOR EACH CLASS:\n",
        "def compute_ambiguity_support(df,POS2idx):\n",
        "    all_POS = list(POS2idx.keys())\n",
        "    dict_ambiguity_support = { key : [set([]),0] for key in all_POS}\n",
        "\n",
        "    i = 0\n",
        "    for row in train_df.iterrows():\n",
        "      i+=1\n",
        "      words = row[1]['words']\n",
        "      POS = row[1]['POS']\n",
        "      for i in range(len(words)):\n",
        "          dict_ambiguity_support[POS[i]][0].add(words[i].lower())\n",
        "          dict_ambiguity_support[POS[i]][1] +=1\n",
        "    \n",
        "    return dict_ambiguity_support\n",
        "\n",
        "dict_ambiguity_support = compute_ambiguity_support(train_df,POS2idx)\n",
        "#print(\"support = number of occurences of words belonging to the class\")\n",
        "#print(\"ambiguity = number of different words belonging to the class\\n\")\n",
        "\n",
        "#for key,value in dict_ambiguity_support.items():\n",
        "#        print(POS2idx[key],key, \"  ->  support:\", value[1], \"   ambiguity:\", len(value[0]), \"    ratio ambiguity/support:\", len(value[0])/value[1] )\n",
        "########################\n",
        "\n",
        "\n",
        "######################## COMPUTE WEIGHT FOR THE LOSS OF EACH CLASS\n",
        "def compute_weights(train_df, beta = 0, type =\"inter_ambiguity\"):\n",
        "    \"\"\"Args:\n",
        "       - beta=0 means no weightening, beta ->1 leads to weight = inverse of frequency/ambiguity.\n",
        "       - type: it must be one of these strings:\n",
        "             - \"support\" to classical weighted loss \n",
        "             - \"intra_ambiguity_support\" to weight more the loss of classes with low support and high intra_ambiguity.\n",
        "             - \"inter_ambiguity\" to weight more the loss of classes with high inter_ambiguity\n",
        "       \n",
        "      Return:\n",
        "       - tensor with weight per each class.\n",
        "    \"\"\"\n",
        "    n_classes = len(POS2idx)\n",
        "    \n",
        "    if type ==  \"support\":\n",
        "        dict_ambiguity_support = compute_ambiguity_support(train_df,POS2idx)\n",
        "        ease_per_class = np.array([len(value[0]) for value in dict_ambiguity_support.values()])\n",
        "\n",
        "    elif type ==  \"intra_ambiguity_support\":\n",
        "        dict_ambiguity_support = compute_ambiguity_support(train_df,POS2idx)\n",
        "        ease_per_class = np.array([len(value[0])/value[1] *100 for value in dict_ambiguity_support.values()])\n",
        "\n",
        "    elif type ==  \"inter_ambiguity\":\n",
        "       inter_ambiguity = {key: 1 for key in POS2idx.keys()}\n",
        "       inter_ambiguous_POS = [\"NNPS\",\"NNS\", \"RBR\", \"JJR\", \"VBD\", \"VBN\"]                                                    #classes of which you want to increment the loss attention\n",
        "       for p in inter_ambiguous_POS: inter_ambiguity[p] = 2                                                  # I've tested higher values, this has given the best results.\n",
        "       ease_per_class = np.array([1/value for value in inter_ambiguity.values()])\n",
        "       \n",
        "    \n",
        "    else:\n",
        "      print(\"NO VALID type name\")\n",
        "\n",
        "    E = 1.0 -np.power(beta, ease_per_class)  \n",
        "    weights = (1.0 - beta)/ np.array(E)\n",
        "    weights = weights/np.sum(weights) * n_classes\n",
        "    \n",
        "    return weights\n"
      ],
      "execution_count": null,
      "outputs": []
    },
    {
      "cell_type": "markdown",
      "metadata": {
        "id": "Yxlv6qyRwDd6"
      },
      "source": [
        "## Data augmentation\n",
        "\n",
        "For classes having this properties it's possible to improve the model performances:\n",
        "\n",
        "1) class which words are not in other classes.\n",
        "   - For example \"in\" is a word contained in different classes, instead \"a\" is contained only in the class \"LS\".\n",
        "\n",
        "2) class which contains a finite and small number of possible words.\n",
        "    - Again \"LS\" is a good example since it only contains all the alphabet and 9 digits.\n",
        "\n",
        "The performance can be improved by adding to the dataset new sequences. These new sentences are composed each by a single word. This is fine since these words don't need the context to be correctly classified (that's why the first property is needed).\n",
        "\n",
        "I don't expect it to work for the FW words, for them is needed a characters analysis.\n",
        "\n",
        "This dataset is feeded to the model at each epoch.\n",
        "\n",
        "This method gave improvements to the naive models, but thanks to the use of the features added to the embedding vectors this has become useless. I leave here anyway the implementation to better show the idea, and also to show that this idea is completely ineffective to deal with the FW word (indeed the f1 score = 0 for this class also if this technique is used)."
      ]
    },
    {
      "cell_type": "code",
      "metadata": {
        "colab": {
          "base_uri": "https://localhost:8080/"
        },
        "id": "URRZGRPqeaxa",
        "outputId": "d2fc9abb-ce9c-4c35-c3ad-000b9cb0c7f6"
      },
      "source": [
        "import pandas as pd  #pttt\n",
        "\n",
        "\n",
        "n = 4\n",
        "n2 = n*2\n",
        "n_2 = int(n/2)\n",
        "\n",
        "data = {'split': ['train']*n + ['train']*n2 ,\n",
        "        'doc':  [0]*n + [0]*n2,\n",
        "        'words': [['Oh']]*n_2 + [['OK']]*n_2 + [['etc.']]*n_2 + [['de']]*n_2 + [['besuboru']]*n_2 + [['Perestroika']]*n_2,\n",
        "        'POS': [['UH']]*n + [['FW']]*n2 }\n",
        "\n",
        "additional_data = pd.DataFrame (data, columns = data.keys())\n",
        "\n",
        "print (additional_data)"
      ],
      "execution_count": null,
      "outputs": [
        {
          "output_type": "stream",
          "text": [
            "    split  doc          words   POS\n",
            "0   train    0           [Oh]  [UH]\n",
            "1   train    0           [Oh]  [UH]\n",
            "2   train    0           [OK]  [UH]\n",
            "3   train    0           [OK]  [UH]\n",
            "4   train    0         [etc.]  [FW]\n",
            "5   train    0         [etc.]  [FW]\n",
            "6   train    0           [de]  [FW]\n",
            "7   train    0           [de]  [FW]\n",
            "8   train    0     [besuboru]  [FW]\n",
            "9   train    0     [besuboru]  [FW]\n",
            "10  train    0  [Perestroika]  [FW]\n",
            "11  train    0  [Perestroika]  [FW]\n"
          ],
          "name": "stdout"
        }
      ]
    },
    {
      "cell_type": "markdown",
      "metadata": {
        "id": "X1rNZdvJq0fT"
      },
      "source": [
        "# Glove Embedding:"
      ]
    },
    {
      "cell_type": "code",
      "metadata": {
        "id": "r7mK2O0qqyen",
        "colab": {
          "base_uri": "https://localhost:8080/"
        },
        "outputId": "27a77c10-f520-473d-8313-61a8a1d2a42e"
      },
      "source": [
        "import gensim\n",
        "import gensim.downloader as gloader\n",
        "\n",
        "# loading embedding model:\n",
        "embedding_dim = 300\n",
        "download_path = \"glove-wiki-gigaword-{}\".format(embedding_dim)\n",
        "emb_model = gloader.load(download_path)"
      ],
      "execution_count": null,
      "outputs": [
        {
          "output_type": "stream",
          "text": [
            "[================================================--] 97.3% 366.1/376.1MB downloaded"
          ],
          "name": "stdout"
        }
      ]
    },
    {
      "cell_type": "markdown",
      "metadata": {
        "id": "ons56JzSetrC"
      },
      "source": [
        "## Input data to the model:\n",
        "The input data is the embedding vector of each word to which is concatenated a vector of features extracted with some simple rules.\n",
        "\n",
        "These rules try to catch the features which are more useful to discriminate the words depending on the POS tag. For instance it is useful to know if the word is a numeric string, the length of the word, if the first char is uppercase, and so on. \n",
        "\n",
        "These features have been added after the error analysis, this improved the f1 score on the validation set."
      ]
    },
    {
      "cell_type": "code",
      "metadata": {
        "id": "_WKGYyH0IJXG"
      },
      "source": [
        "# embedding sequence function:\n",
        "def sequence_embedding(sequence, embedding_dim, add_features):\n",
        "  \"\"\" Args:\n",
        "       - sequence: list of words to be embedded.\n",
        "       - emb_model: embedding_model.\n",
        "       - embedding_dim: dimension of each embedding vector.\n",
        "       - add_features: number of features to be concatenated with the embedding vector. Possible values: 0 or 13.\n",
        "\n",
        "    Return: \n",
        "      - tensor where each element is an embedding vector.\n",
        "  \"\"\"\n",
        "\n",
        "  if add_features: embedding_dim -= num_features\n",
        "  embedded_sequence = []\n",
        "  new_features = np.zeros(num_features)\n",
        "\n",
        "  for idx,word in enumerate(sequence):\n",
        "    try:\n",
        "         emb_word = emb_model[word]\n",
        "    except: \n",
        "         try:\n",
        "             emb_word = emb_model[word.lower()]\n",
        "         except:\n",
        "             if add_features:\n",
        "                #1 feature: the vector is random:\n",
        "                new_features[0] = 1.0\n",
        "\n",
        "             emb_word = np.random.rand(embedding_dim)\n",
        "             emb_model[word.lower()] = emb_word          # add OOV words to the vocabulary\n",
        "\n",
        "    \n",
        "    #add first and last word of the sentence\n",
        "    if add_features:\n",
        "      #2 feature:\n",
        "      if word[0].isupper() and word.lower()[-1] == \"s\" : new_features[1] = 1  # NNPS class\n",
        "      #3 feature:\n",
        "      if word.lower()[:2] == \"-r\": new_features[2] = 1.0\n",
        "      #4 feature:\n",
        "      if word.lower()[:2] == \"-l\": new_features[3] = 1.0\n",
        "      #5 feature:\n",
        "      if word.lower()[-1] == \"s\": new_features[4] = 1.0\n",
        "      #6 feature\n",
        "      if word[0].islower() and word.lower()[-1] == \"s\" : new_features[5] = 1  # NNS class\n",
        "      #7 feature:\n",
        "      if word.lower()[-2:] == \"er\": new_features[6] = 1.0\n",
        "      #8 feature\n",
        "      new_features[7] = float(len(word)/10)\n",
        "      #9 feature:\n",
        "      new_features[8] = float(word[0].isalpha())\n",
        "      #10 feature:\n",
        "      if word.lower()[-3:] == \"est\": new_features[9] = 1.0\n",
        "      #11 feature:\n",
        "      if len(word) == 1 and (word.isalpha() or word.isnumeric()):  new_features[10] = 1.0 # class LS\n",
        "      #12 feature:\n",
        "      if word[0].isupper(): new_features[11] = 1.0\n",
        "\n",
        "\n",
        "\n",
        "      emb_word = np.array(np.concatenate([emb_word, new_features]), dtype='float32')\n",
        "\n",
        "    embedded_sequence.append(emb_word)\n",
        "  emb_seq = np.array(embedded_sequence,dtype = 'float32')\n",
        "  return  torch.from_numpy(emb_seq)"
      ],
      "execution_count": null,
      "outputs": []
    },
    {
      "cell_type": "markdown",
      "metadata": {
        "id": "jlCCRykgnqWv"
      },
      "source": [
        "# Useful functions:"
      ]
    },
    {
      "cell_type": "code",
      "metadata": {
        "id": "SqK3SUt1nwHT"
      },
      "source": [
        "def flatten_and_mask(labels, predictions, labels_to_mask):\n",
        "   \"\"\"Args:\n",
        "      - labels: a tensor containing labels in numeric form (= one value for each label).\n",
        "      - predictions: a tensor where each element is a tensor containing the predicted score associated to each label.\n",
        "      - labels_to_mask: list of labels (expressed in numeric form) to be masked.\n",
        "\n",
        "      Return:\n",
        "      - masked_labels: masked labels, in the same format of the input labels.\n",
        "      - masked_predictions: masked predictions, in the same format of the input predictions.      \n",
        "   \"\"\"\n",
        "   labels = labels.view(-1)\n",
        "   predictions = predictions.view(labels.size())\n",
        "\n",
        "   mask = np.ones(len(labels), dtype=bool)\n",
        "   for idx,tag in enumerate(labels):\n",
        "        if tag in labels_to_mask:\n",
        "              mask[idx] = False \n",
        "              \n",
        "   masked_predictions = predictions[mask]\n",
        "   masked_labels = labels[mask]\n",
        "\n",
        "   return masked_labels, masked_predictions"
      ],
      "execution_count": null,
      "outputs": []
    },
    {
      "cell_type": "code",
      "metadata": {
        "id": "ez3CeT-BgUjN"
      },
      "source": [
        "########################## This lists will be used to get the f1 score of all the classes but the ones containing punctuation marks or symbols.\n",
        "\n",
        "punctuation_marks_tags =  [\",\", \".\", \"''\", \"``\", \":\", 'SYM', '#' ]  \n",
        "\n",
        "idx_punctuation_marks_tags = [POS2idx[tag] for tag in punctuation_marks_tags]\n",
        "\n",
        "\n",
        "idx_tag_to_be_considered = []\n",
        "for tag,tag_idx in POS2idx.items():\n",
        "    if not(tag in (punctuation_marks_tags)):\n",
        "        idx_tag_to_be_considered.append(tag_idx)"
      ],
      "execution_count": null,
      "outputs": []
    },
    {
      "cell_type": "markdown",
      "metadata": {
        "id": "uqEJprMBH1Lm"
      },
      "source": [
        "# Models definition\n",
        "I create a single class, which depending on the input can define all the 4 required models of this assignment (and more).\n",
        "\n",
        "I tried different implementations of the CRF layer, the most efficient one I found is the CRF from torchcrf which is installed in the next cell."
      ]
    },
    {
      "cell_type": "code",
      "metadata": {
        "colab": {
          "base_uri": "https://localhost:8080/"
        },
        "id": "TPRU-ITCTJaa",
        "outputId": "7d1158ae-5902-4b13-b344-37ec205280bb"
      },
      "source": [
        "pip install pytorch-crf"
      ],
      "execution_count": null,
      "outputs": [
        {
          "output_type": "stream",
          "text": [
            "Collecting pytorch-crf\n",
            "  Downloading https://files.pythonhosted.org/packages/96/7d/4c4688e26ea015fc118a0327e5726e6596836abce9182d3738be8ec2e32a/pytorch_crf-0.7.2-py3-none-any.whl\n",
            "Installing collected packages: pytorch-crf\n",
            "Successfully installed pytorch-crf-0.7.2\n"
          ],
          "name": "stdout"
        }
      ]
    },
    {
      "cell_type": "code",
      "metadata": {
        "id": "bcE_LZFXTSTX"
      },
      "source": [
        "import torch\n",
        "from torchcrf import CRF"
      ],
      "execution_count": null,
      "outputs": []
    },
    {
      "cell_type": "code",
      "metadata": {
        "id": "v1FHUOaHK9GA"
      },
      "source": [
        "# tag: https://github.com/LeanManager/NLP-PyTorch/blob/master/LSTM%20Speech%20Tagging%20with%20PyTorch.ipynb\n",
        "\n",
        "# bidirectional = https://github.com/yunjey/pytorch-tutorial/blob/master/tutorials/02-intermediate/bidirectional_recurrent_neural_network/main.py\n",
        "\n",
        "class MODELS_GENERATOR(nn.Module):\n",
        "\n",
        "    def __init__(self, emb_dim, hidden_dim, tagset_size, use_CRF, batch_size, rnn_type = \"LSTM\", bidirectional = True, num_layers = 1, drop = 0.2, beta = 0, beta_type = \"inter_ambiguity\"):\n",
        "        \"\"\" Args:\n",
        "            - embedding_dim: dimension of each embedding vector.\n",
        "            - hidden_dim: number of LSTM/GRU units.\n",
        "            - tagset_size: number of tags.\n",
        "            - use_CRF: a boolean value, set to True to apply CRF.\n",
        "            - batch_size: num of documents/sentences in input.\n",
        "            - rnn_type: choose between \"LSTM\" and \"GRU\".\n",
        "            - bidirectional: boolean value, set to True to use bidirectional LSTM/GRU.\n",
        "            - num_layers: number of layers in the LSTM/GRU architecture.\n",
        "\n",
        "            Return:\n",
        "            - the model to do sequence pos tagging.\n",
        "        \"\"\"\n",
        "        super(MODELS_GENERATOR, self).__init__()\n",
        "        \n",
        "        self.hidden_dim = hidden_dim\n",
        "        self.embedding_dim = emb_dim\n",
        "        self.rnn_type = rnn_type\n",
        "        self.num_layers = num_layers\n",
        "        self.tagset_size = tagset_size\n",
        "        self.batch_size = batch_size\n",
        "        self.dropout = nn.Dropout(p = drop)\n",
        "        self.beta = beta\n",
        "\n",
        "        if beta >0:\n",
        "           self.class_weights = compute_weights(train_df, beta, beta_type)\n",
        "        else:\n",
        "          self.class_weights = False\n",
        "\n",
        "\n",
        "\n",
        "        if bidirectional == True: self.num_directions = 2\n",
        "\n",
        "        if self.rnn_type == \"LSTM\": \n",
        "          self.rnn = nn.LSTM(self.embedding_dim, hidden_dim, num_layers = num_layers, bidirectional = bidirectional, batch_first = True) \n",
        "\n",
        "        elif self.rnn_type == \"GRU\":\n",
        "          self.rnn = nn.GRU(self.embedding_dim, hidden_dim, num_layers = num_layers, bidirectional = bidirectional,  batch_first = True) \n",
        "\n",
        "        else:\n",
        "          print(\"no valid rnn name\")\n",
        "\n",
        "        self.hidden2scores = nn.Linear(hidden_dim*self.num_directions, tagset_size) \n",
        "\n",
        "        self.crf = CRF(tagset_size)\n",
        "      \n",
        "    def init_hidden(self):\n",
        "      # I initialize with zeros, I tried also torch.rand but it gave worse results.\n",
        "        if self.rnn_type == \"LSTM\":\n",
        "          self.hidden =  torch.zeros(self.num_layers*self.num_directions, self.batch_size, self.hidden_dim) \n",
        "          self.cell =  torch.zeros(self.num_layers*self.num_directions, self.batch_size, self.hidden_dim) \n",
        "        elif self.rnn_type == \"GRU\":\n",
        "          self.hidden = torch.zeros(self.num_layers*self.num_directions, self.batch_size, self.hidden_dim) \n",
        "\n",
        "    \n",
        "    def forward(self, sequence, labels, use_CFR, batch_size, batch_lengths, pad_value):\n",
        "        \"\"\" Args:\n",
        "            - sequence: tensor of sequence of words ALREADY EMBEDDED (can be a single word or a sentence or a document). Dim = (batch_size, seq_len, embedding_dim)\n",
        "            - labels = tensor indicating the labels for each word. Dim = (batch_size, seq_len, 1)\n",
        "            - tagset_size: number of tags.\n",
        "            - use_CRF: a boolean value, set to True to apply CRF.\n",
        "            - batch_size: num of documents/sentences in input.\n",
        "            - batch_lengths: list of length \"seq_len\" values for each sequence of the batch.\n",
        "            - pad_value: value used to index the POS associated to the padding.\n",
        "            \n",
        "            Return:\n",
        "\n",
        "            - if use_CRF is False: POS_scores, None, None. Where POS_scores is a tensor containing the softmax scores vector for each word wrt each label.\n",
        "            - if use_CRF is True: loss, predicted_pos, labels. Where:\n",
        "                      - \"loss\" is a tensor containing a single loss value (the mean or weighted mean among all the predictions)\n",
        "                      - predicted pos is a tensor containing the score vectors for each word wrt each label.\n",
        "                      - labels is a tensor containing the labels in numeric format (one value for each word)\n",
        "        \"\"\"\n",
        "       \n",
        "        seq_len = max(batch_lengths)\n",
        "\n",
        "        if self.rnn_type == \"LSTM\":\n",
        "\n",
        "            rnn_out, (hout,cout) = self.rnn(sequence, (self.hidden, self.cell))\n",
        "            (self.hidden,self.cell) = (hout,cout)\n",
        "\n",
        "        elif self.rnn_type == \"GRU\":\n",
        "            rnn_out, self.hidden = self.rnn(sequence, self.hidden)\n",
        "\n",
        "    \n",
        "        rnn_out, _ = torch.nn.utils.rnn.pad_packed_sequence(rnn_out, batch_first=True)\n",
        "        \n",
        "        rnn_out = rnn_out.view(-1, rnn_out.shape[2])\n",
        "        \n",
        "        rnn_out = self.dropout(rnn_out)\n",
        "\n",
        "        POS_outputs = self.hidden2scores(rnn_out)\n",
        "         \n",
        "\n",
        "        ################# CRF:\n",
        "        if use_CFR:\n",
        "          \n",
        "          POS_outputs = POS_outputs.view( seq_len ,batch_size, self.tagset_size)\n",
        "          scores = POS_outputs\n",
        "          \n",
        "          # flatten all labels to make the masking easier:\n",
        "          labels = labels.view(-1)\n",
        "\n",
        "          # flatten all predictions to make the masking easier:\n",
        "          scores = scores.view(-1, self.tagset_size)\n",
        "        \n",
        "          mask = (labels > pad_value).float()\n",
        "        \n",
        "          scores = scores[mask.bool()] \n",
        "          labels = labels[mask.bool()]\n",
        "\n",
        "          scores = scores.view(1, -1, self.tagset_size)  # invert batch size and seq_len so that \"self.crf\" will return a tensor of loss instead of a single value.\n",
        "          labels = labels.view(1, -1) # invert batch size and seq_len so that \"self.crf\" will return a tensor of loss instead of a single value.\n",
        "          \n",
        "          loss = -self.crf(scores, labels, reduction = \"none\") # scores(=lstM_out).size() must be (seq_length, batch_size, num_tags)\n",
        "                    \n",
        "          if self.beta:\n",
        "              weights =[]\n",
        "              for label in labels[0]:\n",
        "                weights.append(self.class_weights[label.item()])\n",
        "              \n",
        "              weights = torch.tensor(weights)  # weights for the current sequence tags\n",
        "              loss = loss*weights\n",
        "          \n",
        "          loss = loss.mean()\n",
        "         \n",
        "          scores = scores.view(-1, 1, self.tagset_size)\n",
        "          labels = labels.view(-1,1)\n",
        "          predicted_pos = torch.tensor(self.crf.decode(scores)[0])\n",
        "          labels = labels.view(predicted_pos.size())\n",
        "          return loss, predicted_pos, labels\n",
        "          ################\n",
        "        \n",
        "        \n",
        "        elif not(use_CRF): \n",
        "\n",
        "          POS_scores = F.log_softmax(POS_outputs, dim=1)\n",
        "          POS_scores = POS_scores.view(batch_size, seq_len, self.tagset_size)\n",
        "\n",
        "          return POS_scores, None, None  "
      ],
      "execution_count": null,
      "outputs": []
    },
    {
      "cell_type": "markdown",
      "metadata": {
        "id": "fHzL2CucHs5G"
      },
      "source": [
        "# Training and Validation"
      ]
    },
    {
      "cell_type": "markdown",
      "metadata": {
        "id": "WqewDKIUguQp"
      },
      "source": [
        "## Loop functions\n",
        "\n",
        "\n"
      ]
    },
    {
      "cell_type": "code",
      "metadata": {
        "id": "Nj12QwYjpK7z"
      },
      "source": [
        "from numpy.random import shuffle\n",
        "from sklearn.metrics import f1_score\n",
        "\n",
        "#################### VALIDATION CALL SINGLE LOOP:\n",
        "\n",
        "def val_loop(val_df, model, batch_size):\n",
        "    \n",
        "    \"\"\" Args:\n",
        "         - val_df: validation set.\n",
        "         - model: the sequence pos tagger model.\n",
        "         - batch_size: number of sequences(documents/sentences)\n",
        "        \n",
        "        Return:\n",
        "         - epoch_loss: the average loss computed as meanof the loss for each minibatch.\n",
        "         - epoch accuracy: the percentage of correct classifications done during the all epoch. It doesn't take into account the punctuation marks and symbols.\n",
        "         - epoch_f1: f1 score computed at the end of the epoch using tot_labels and tot_predictions. It doesn't take into account the punctuation marks and symbols.\n",
        "         - tot_labels: tensor containing in order the ACTUAL tags (in numeric format) associated to each word received as input.\n",
        "         - tot_predictions: tensor containing in order the PREDICTED tags (in numeric format) associated to each word received as input.   \n",
        "    \"\"\"\n",
        "    with torch.no_grad():\n",
        "      train = False\n",
        "      return loop(val_df, model, batch_size, train)\n",
        "\n",
        "#################### TRAINING CALL SINGLE LOOP:\n",
        "\n",
        "def train_loop(train_df, model, batch_size):\n",
        "      \n",
        "    \"\"\" Args:\n",
        "         - train_df: training set.\n",
        "         - model: the sequence pos tagger model.\n",
        "         - batch_size: number of sequences(documents/sentences)\n",
        "        \n",
        "        Return:\n",
        "         - epoch_loss: the average loss computed as meanof the loss for each minibatch.\n",
        "         - epoch accuracy: the percentage of correct classifications done during the all epoch. It doesn't take into account the punctuation marks and symbols.\n",
        "         - epoch_f1: f1 score computed at the end of the epoch using tot_labels and tot_predictions. It doesn't take into account the punctuation marks and symbols.\n",
        "         - tot_labels: tensor containing in order the ACTUAL tags (in numeric format) associated to each word received as input.\n",
        "         - tot_predictions: tensor containing in order the PREDICTED tags (in numeric format) associated to each word received as input.     \n",
        "    \"\"\"\n",
        "    train = True\n",
        "    return loop(train_df, model, batch_size, train)\n",
        "\n",
        "\n",
        "#################### CALL SINGLE LOOP:\n",
        "\n",
        "def loop(df, model, batch_size, train = False):\n",
        "        \n",
        "    \"\"\" Args:\n",
        "         - df: any dataset.\n",
        "         - model: the sequence pos tagger model.\n",
        "         - batch_size: number of sequences(documents/sentences).\n",
        "         - train: a boolean value, True if the model must learn in this epoch.\n",
        "        \n",
        "        Return:\n",
        "         - epoch_loss: the average loss computed as meanof the loss for each minibatch.\n",
        "         - epoch accuracy: the percentage of correct classifications done during the all epoch. It doesn't take into account the punctuation marks and symbols.\n",
        "         - epoch_f1: f1 score computed at the end of the epoch using tot_labels and tot_predictions. It doesn't take into account the punctuation marks and symbols.\n",
        "         - tot_labels: tensor containing in order the ACTUAL tags (in numeric format) associated to each word received as input.\n",
        "         - tot_predictions: tensor containing in order the PREDICTED tags (in numeric format) associated to each word received as input.  \n",
        "    \"\"\"\n",
        "\n",
        "    epoch_loss = 0.0\n",
        "    epoch_accuracy = 0.0\n",
        "    tot_predictions = []\n",
        "    tot_labels = []\n",
        "    \n",
        "    indexes = np.array([i for i in range(len(df))])\n",
        "    shuffle(indexes)\n",
        "    \n",
        "    num_batches = 0\n",
        "    i = 0\n",
        "    while i <= len(indexes) - batch_size:\n",
        "\n",
        "        # batch preparation:\n",
        "        batch_indexes = indexes[i:i+batch_size]\n",
        "        batch_df = df.iloc[list(batch_indexes)]\n",
        "        \n",
        "        input_batch = []\n",
        "        target_pos_batch = []\n",
        "        batch_lengths = []\n",
        "        n_batch_words = 0\n",
        "\n",
        "        for row in batch_df.iterrows():            \n",
        "\n",
        "            sentence_words_list = row[1]['words']\n",
        "            sentence_POS_list = row[1]['POS']\n",
        "\n",
        "            input_sentence = sequence_embedding(sentence_words_list, emb_dim, add_features).float()\n",
        "            target_pos = torch.from_numpy(np.array([POS2idx[p] for p in sentence_POS_list]))\n",
        "\n",
        "            # batch building:\n",
        "            input_batch.append(input_sentence)\n",
        "            target_pos_batch.append(target_pos)\n",
        "            batch_lengths.append(len(sentence_words_list))\n",
        "            n_batch_words += len(sentence_words_list)  \n",
        "\n",
        "        ######### PADDING AND CONVERTING LIST OF TENSORS TO TENSOR OF TENSORS:\n",
        "        input_batch = torch.nn.utils.rnn.pad_sequence(input_batch, batch_first=True, padding_value= pad_value)\n",
        "        input_batch = input_batch.view(batch_size, max(batch_lengths), emb_dim) # required input size: (batch, seq_len, embedding_dimension)\n",
        "\n",
        "        target_pos_batch = torch.nn.utils.rnn.pad_sequence(target_pos_batch, batch_first=True, padding_value= pad_value) # required target size: (seq_len, batch_size)\n",
        "        #########\n",
        "\n",
        "        if train:\n",
        "          model.zero_grad() \n",
        "\n",
        "        model.init_hidden() # zero the hidden state of the LSTM, this detaches it from its history:\n",
        "\n",
        "        ################## PADDING:\n",
        "        input_batch = torch.nn.utils.rnn.pack_padded_sequence(input_batch, batch_lengths, batch_first=True, enforce_sorted=False)\n",
        "        ##################\n",
        "       \n",
        "        if not(use_CRF):\n",
        "                  \n",
        "          model_scores, _ , _ = model(input_batch, target_pos_batch, use_CRF, batch_size, batch_lengths, pad_value)\n",
        "          \n",
        "          ### LOSS\n",
        "          flat_labels = target_pos_batch.view(-1)\n",
        "          flat_prediction_scores = model_scores.view(-1,len(POS2idx)) \n",
        "          weight_tensor = torch.tensor(compute_weights(train_df,beta))\n",
        "          nn_loss =  nn.NLLLoss(weight = weight_tensor.float(), ignore_index = pad_value)  # MASK THE PADDING LOSS\n",
        "\n",
        "          batch_avg_loss = nn_loss(flat_prediction_scores, flat_labels) \n",
        "       \n",
        "          _, predictions = torch.max(flat_prediction_scores, 1) # extract from each vector of scores the tag with the maximum score\n",
        "          \n",
        "        if use_CRF:\n",
        "\n",
        "          batch_avg_loss, predictions, flat_labels = model(input_batch, target_pos_batch, use_CRF, batch_size, batch_lengths, pad_value)\n",
        "          \n",
        "               \n",
        "        if train:\n",
        "            batch_avg_loss.backward()\n",
        "            optimizer.step()\n",
        "\n",
        "        # preparation to compute the epoch accuracy and f1 score.\n",
        "        to_mask = idx_punctuation_marks_tags + [pad_value] # tags to be masked\n",
        "        flat_labels, flat_predictions = flatten_and_mask(flat_labels, predictions, to_mask)\n",
        "        tot_labels += flat_labels.tolist()\n",
        "        tot_predictions += flat_predictions.tolist()\n",
        "        \n",
        "        # preparation to compute the average epoch loss:\n",
        "        epoch_loss += batch_avg_loss.item() \n",
        "        num_batches +=1 \n",
        "\n",
        "        # needed for the \"while\" loop:\n",
        "        i += batch_size \n",
        "\n",
        "    tot_labels = torch.tensor(tot_labels)\n",
        "    tot_predictions = torch.tensor(tot_predictions)\n",
        "    epoch_loss /= num_batches\n",
        "    epoch_accuracy  = sum(tot_labels == tot_predictions)/len(tot_labels) *100\n",
        "    \n",
        "    epoch_f1 = f1_score(tot_labels, tot_predictions, average = 'macro')\n",
        "\n",
        "    return epoch_loss, epoch_accuracy, epoch_f1, tot_labels, tot_predictions\n",
        "\n",
        "\n",
        "\n",
        "##################### TRAINING AND VALIDATION LOOPS\n",
        "def training_and_validation(model, train_df, val_df, n_epochs, batch_size, name = 'val'):\n",
        "  \n",
        "  best_fscore = -1\n",
        "  for epoch in range(1,n_epochs+1):   \n",
        "      \n",
        "      avg_train_epoch_loss, train_epoch_accuracy, train_epoch_f1, _, _ = train_loop(train_df, model, batch_size)\n",
        "      \n",
        "      avg_val_epoch_loss, val_epoch_accuracy, val_epoch_f1, tot_labels, tot_predictions = val_loop(val_df, model, batch_size) \n",
        "      \n",
        "      if use_data_augmentation:\n",
        "          _,_,_,_,_ = train_loop(additional_data, model, 1)\n",
        "\n",
        "\n",
        "      if val_epoch_f1 > best_fscore:\n",
        "         best_fscore = val_epoch_f1\n",
        "         best_model = model\n",
        "         best_tot_labels, best_tot_predictions = tot_labels,tot_predictions\n",
        "\n",
        "      print(\"#epoch \",epoch, \":\")\n",
        "\n",
        "      print(\"train_loss = \", format(avg_train_epoch_loss,\".2f\"), \"      train_accuracy = \", format(train_epoch_accuracy,\".2f\"),\"%\" , \"      train_f1 = \", format(train_epoch_f1,\".2f\"))   \n",
        "      print(name+\"_loss = \", format(avg_val_epoch_loss,\".2f\"), \"     \", name+\"_accuracy = \", format(val_epoch_accuracy,\".2f\"),\"%\", \"     \",name+\"_f1 = \", format(val_epoch_f1,\".2f\"))\n",
        "  return best_tot_labels, best_tot_predictions, best_model"
      ],
      "execution_count": null,
      "outputs": []
    },
    {
      "cell_type": "markdown",
      "metadata": {
        "id": "dFFhXnJYgzgo"
      },
      "source": [
        "## Hyperparameters:\n",
        "According to the experiments resuts:\n",
        "\n",
        "- the best dataset to use is a mix of documents and single sentences. \n",
        "\n",
        "- best model: BiLSTM + CRF.\n",
        "\n",
        "- the higher the hidden_dim the better for the training, but because of ovefitting and time cost a good tradeoff is between 100-200.\n",
        "\n",
        "- the use of the features concatenated with the embedding vector improves the performances.\n",
        "\n",
        "- Since there's a overfitting problem I tried dropout and L2 regularization but both didn't improve the performances.\n",
        "\n",
        "- beta = 0.9 with \"inter_ambiguity\" gave the best results.\n",
        "\n",
        "- batch_size = 1 gives slightly better results.\n",
        "\n",
        "- Surprisingly the simple SGD converges better and faster than SGD with momentum or Adam. The parameter lr = 0.5 has given the best results and convergence speed.\n",
        "\n",
        "- The use of data augmentation doesn't improve the performances at all in this case. (But it would be very useful if it was required to tag symbol classes like).\n",
        "\n",
        "\n"
      ]
    },
    {
      "cell_type": "markdown",
      "metadata": {
        "id": "iCd0Vqpvg6_w"
      },
      "source": [
        "## RUN train and val"
      ]
    },
    {
      "cell_type": "code",
      "metadata": {
        "id": "bmL3ARR_A4Qv"
      },
      "source": [
        "# ABOUT THE MODEL:\n",
        "\n",
        "hidden_dim = 128 # number of units of the LSTM/GRU\n",
        "use_CRF = True\n",
        "rnn_type = \"LSTM\"\n",
        "bidirectional = True\n",
        "num_layers = 1\n",
        "drop = 0 # dropout parameter, set to 0 to get no dropout.\n",
        "\n",
        "# OTHERS:\n",
        "embedding_dim = 300\n",
        "add_features = True\n",
        "pad_value = -1\n",
        "\n",
        "# ABOUT THE TRAINING:\n",
        "n_epochs = 20\n",
        "batch_size = 1\n",
        "\n",
        "# DEAL WITH UMBALANCED DATA:\n",
        "beta = 0.9 \n",
        "\n",
        "beta_type = \"inter_ambiguity\"       \n",
        "                                              # - \"support\" to classical weighted loss \n",
        "                                              # - \"intra_ambiguity_support\" to weight more the loss of classes with low support and high intra_ambiguity.\n",
        "                                              # - \"inter_ambiguity\" to weight more the loss of classes with high inter_ambiguity\n",
        "                                              \n",
        "use_data_augmentation = False  \n",
        "\n",
        "\n",
        "######## don't touch:\n",
        "if add_features:\n",
        "   num_features = 12 # number of features concatenated to the embedding vectors. Look the \"sequence_embedding\" function.\n",
        "   emb_dim = embedding_dim + num_features \n",
        "else:\n",
        "  num_features = 0\n",
        "  emb_dim = embedding_dim\n",
        "########\n",
        "\n",
        "model = MODELS_GENERATOR(emb_dim, hidden_dim, len(unique_POS), use_CRF, batch_size, rnn_type, bidirectional, num_layers, drop, beta, beta_type).float()\n",
        "\n",
        "# OPTIMZER:\n",
        "optimizer = optim.SGD(model.parameters(), lr=0.5, weight_decay = 0)"
      ],
      "execution_count": null,
      "outputs": []
    },
    {
      "cell_type": "code",
      "metadata": {
        "colab": {
          "base_uri": "https://localhost:8080/"
        },
        "id": "NgoGW8BpWzAh",
        "outputId": "9ded678a-fbf6-4428-93c9-2044efc05685"
      },
      "source": [
        "################################################# train:\n",
        "best_tot_labels, best_tot_predictions, best_model = training_and_validation(model, train_df, val_df, n_epochs, batch_size)   "
      ],
      "execution_count": null,
      "outputs": [
        {
          "output_type": "stream",
          "text": [
            "#epoch  1 :\n",
            "train_loss =  0.72       train_accuracy =  74.35 %       train_f1 =  0.49\n",
            "val_loss =  0.43       val_accuracy =  83.34 %       val_f1 =  0.62\n",
            "#epoch  2 :\n",
            "train_loss =  0.27       train_accuracy =  88.55 %       train_f1 =  0.68\n",
            "val_loss =  0.39       val_accuracy =  84.57 %       val_f1 =  0.68\n",
            "#epoch  3 :\n",
            "train_loss =  0.16       train_accuracy =  92.12 %       train_f1 =  0.74\n",
            "val_loss =  0.33       val_accuracy =  87.98 %       val_f1 =  0.72\n",
            "#epoch  4 :\n",
            "train_loss =  0.10       train_accuracy =  94.25 %       train_f1 =  0.80\n",
            "val_loss =  0.36       val_accuracy =  88.14 %       val_f1 =  0.72\n",
            "#epoch  5 :\n",
            "train_loss =  0.06       train_accuracy =  96.08 %       train_f1 =  0.85\n",
            "val_loss =  0.34       val_accuracy =  89.82 %       val_f1 =  0.76\n",
            "#epoch  6 :\n",
            "train_loss =  0.04       train_accuracy =  97.29 %       train_f1 =  0.87\n",
            "val_loss =  0.40       val_accuracy =  90.30 %       val_f1 =  0.77\n",
            "#epoch  7 :\n",
            "train_loss =  0.02       train_accuracy =  98.10 %       train_f1 =  0.89\n",
            "val_loss =  0.43       val_accuracy =  90.50 %       val_f1 =  0.75\n",
            "#epoch  8 :\n",
            "train_loss =  0.01       train_accuracy =  98.87 %       train_f1 =  0.92\n",
            "val_loss =  0.39       val_accuracy =  90.57 %       val_f1 =  0.78\n",
            "#epoch  9 :\n",
            "train_loss =  0.01       train_accuracy =  99.31 %       train_f1 =  0.91\n",
            "val_loss =  0.41       val_accuracy =  90.34 %       val_f1 =  0.77\n",
            "#epoch  10 :\n",
            "train_loss =  0.00       train_accuracy =  99.53 %       train_f1 =  0.96\n",
            "val_loss =  0.43       val_accuracy =  90.68 %       val_f1 =  0.77\n",
            "#epoch  11 :\n",
            "train_loss =  0.00       train_accuracy =  99.58 %       train_f1 =  0.97\n",
            "val_loss =  0.43       val_accuracy =  90.60 %       val_f1 =  0.79\n",
            "#epoch  12 :\n",
            "train_loss =  0.00       train_accuracy =  99.68 %       train_f1 =  0.97\n",
            "val_loss =  0.44       val_accuracy =  90.49 %       val_f1 =  0.78\n",
            "#epoch  13 :\n",
            "train_loss =  0.00       train_accuracy =  99.73 %       train_f1 =  0.99\n",
            "val_loss =  0.45       val_accuracy =  90.87 %       val_f1 =  0.79\n",
            "#epoch  14 :\n",
            "train_loss =  0.00       train_accuracy =  99.79 %       train_f1 =  0.99\n",
            "val_loss =  0.45       val_accuracy =  90.71 %       val_f1 =  0.79\n",
            "#epoch  15 :\n",
            "train_loss =  0.00       train_accuracy =  99.81 %       train_f1 =  0.99\n",
            "val_loss =  0.46       val_accuracy =  90.74 %       val_f1 =  0.78\n",
            "#epoch  16 :\n",
            "train_loss =  0.00       train_accuracy =  99.85 %       train_f1 =  0.99\n",
            "val_loss =  0.46       val_accuracy =  90.77 %       val_f1 =  0.79\n",
            "#epoch  17 :\n",
            "train_loss =  0.00       train_accuracy =  99.86 %       train_f1 =  0.99\n",
            "val_loss =  0.47       val_accuracy =  90.82 %       val_f1 =  0.80\n",
            "#epoch  18 :\n",
            "train_loss =  0.00       train_accuracy =  99.87 %       train_f1 =  0.99\n",
            "val_loss =  0.47       val_accuracy =  90.77 %       val_f1 =  0.80\n",
            "#epoch  19 :\n",
            "train_loss =  0.00       train_accuracy =  99.88 %       train_f1 =  0.99\n",
            "val_loss =  0.48       val_accuracy =  90.74 %       val_f1 =  0.80\n",
            "#epoch  20 :\n",
            "train_loss =  0.00       train_accuracy =  99.89 %       train_f1 =  0.99\n",
            "val_loss =  0.48       val_accuracy =  90.81 %       val_f1 =  0.80\n"
          ],
          "name": "stdout"
        }
      ]
    },
    {
      "cell_type": "markdown",
      "metadata": {
        "id": "_QY4E-Nt8DJ8"
      },
      "source": [
        "# Error Analysis1\n",
        "Analysis on validation set. the next subsections are about the error analysis done to the naive models, I've implemented some ideas here discussed to deal with the main errors: the addition of features and the weighted loss.\n",
        "\n",
        "Honestly I hoped to get a better improvement but thanks to these ideas I could only improve the f1 score from 0.77 to 0.80.\n",
        "\n",
        "(In this subsections I call \"naive models\" the models without features added and weighted loss or additional ideas implementation)."
      ]
    },
    {
      "cell_type": "markdown",
      "metadata": {
        "id": "hRH2npF98Hsz"
      },
      "source": [
        "## Confusion matrix analysis\n",
        "From the confusion matrix resulting from the naive models results (no weighted loss, no data augmentation and no features added) the confusion matrix gave these insights:\n",
        "\n",
        "- \"NNPS\" is misclassified as NNS or NNP, which is not surprising since they're similar, to solve this it can be useful to add a feature which says if the first character is capital, and if the last character is an s.\n",
        "\n",
        "- \"RBS\" is misclassified as \"JJ\". This is probably because they have similar word embeddings, so also in this case it could be a solution to add some features to distinguish them, and to increase the number of times the \"RBS\" words are used in training since the support is so small.\n",
        "\n",
        "- \"WP$\" is misclassified as \"JJ\", here the main problem seem to be the so small support.\n",
        "\n",
        "- \"JJs\" are misclassified mostly as \"JJ\". Here can be useful to add a feature about the last characters of the words.\n",
        "\n",
        "- \"#\" is misclassified with \"NNP\" and \"VB\". There's no semantic reason. Probably the length of the word can be useful to make a correct classification of this.\n",
        "\n",
        "- \"LS\" is misclassified as \"CD\", also here the length of the word can be useful.\n",
        "\n",
        "- \"FW\" is misclassified with CD and NNP. Here the suppport is little but also with a higher support I expect this to be really difficult to be classified. It would be necessary a character analysis to learn the difference between english words and other languages words.\n",
        "\n",
        "-  \"WRB\" \"PRP\", \"IN\", probably because they are short words and contain usually \"w\", \"h\" and \"y\" (anyway usually not all the 3 characters together, this information can be used). Maybe here the most effective thing is do obtain an higher support (or use sample weightening). It could also be useful to add a feature which says if \"w\" & \"h\" are in the word.\n",
        "\n",
        "-  \"RP\" is misclassified as \"RB\" and \"IN\", this is not surprising since they are syntactically similar. There are some words which are in more than one of these classes. For this case the best thing is to have an higher support probably.\n",
        "\n",
        "- \"-RRB-\" is misclassified ad \"NNS\", \"CD\", \"NNP\", probably because \"CD\" contains symbols and NNS and NNP can have peculiar words. The main reason of the misclassification seems to be the little support, anyway this can be probably solved adding a feature which states if the word begins with \"-R\".\n",
        "\n",
        "- \"UH\"  is misclassified with \"DT\" \"PRP\", probably because they are short words. Again the main reason seem to be the too little support.\n",
        "\n",
        "-  \"RBR\" is misclassified with \"JJ\" \"RB\", not surprisingly. Maybe this can be solved adding the feature which states if the word ends with \"er\".\n",
        "\n",
        "- \"PDT\" is misclassified with  \"VBD\", \"DT\" ,\"JJ\". Probably the main problem is the too little support.\n",
        "\n",
        "- \"EX\" is misclassified with \"RB\", \".\". This is surprising. Probably an higher support can solve it.\n",
        "\n",
        "- \"-LRB-\" is mostly misclassified as \"CD\" and \"NNP\". This situation is similar to the error done withthe class \"-RBR-\", probalbly can be solved using a feature which states if the word begins with \"-L\".\n",
        "\n",
        "\n",
        "Thanks to the confusion matrix analysis I added the features which improved the model performances.\n"
      ]
    },
    {
      "cell_type": "markdown",
      "metadata": {
        "id": "B4RPQHUIGL8R"
      },
      "source": [
        "## Support and ambiguity.\n",
        "\n",
        "support = number of occurences of words belonging to the class\n",
        "\n",
        "ambiguity = number of different words belonging to the class\n",
        "\n",
        "The support for a tag is given by the occurence of words which belong to its class. But if these words are different between them, then there's a high ambiguity (Here I do not consider the ambiguity between classes: classes which intersection with other classes is not empty, or having words with similar shapes. I call this \"inter_ambiguity\" and I try dealing with it in the section \"Weighted loss\").\n",
        "\n",
        "For instance:\n",
        "\n",
        "- the classes \"NNP\" and \"NN\" have an high support but are also very ambiguous since there are a lot of different names in the dataset, that's why even if they have an high support they are not so easy to be classified.\n",
        "\n",
        "- the class \"POS\" has a much lower support than \"NNP\", but it only has a few possible \"words\" belonging to it's class, that's why is so easy to be classified.\n",
        "\n",
        "This problem led me to implement a weighted loss. This is better discussed in the section \"weighted loss\". \n",
        "\n",
        "In the next cell I show the support and ambiguity for each class and the ratio between them. The higher the ratio ambiguity/support -> the higher should be the difficulty to correctly classify the class.\n"
      ]
    },
    {
      "cell_type": "code",
      "metadata": {
        "id": "LidQ_PnsCcth",
        "colab": {
          "base_uri": "https://localhost:8080/"
        },
        "outputId": "ab6faf60-bbcc-4400-ebd5-a682c34b118f"
      },
      "source": [
        "all_POS = list(POS2idx.keys())\n",
        "dict_all_words = { key : [set([]),0] for key in all_POS}\n",
        "\n",
        "i = 0\n",
        "for row in val_df.iterrows():\n",
        "  i+=1\n",
        "  words = row[1]['words']\n",
        "  POS = row[1]['POS']\n",
        "  for i in range(len(words)):\n",
        "      if len(dict_all_words[POS[i]]) < 10:\n",
        "          dict_all_words[POS[i]][0].add(words[i].lower())\n",
        "          dict_all_words[POS[i]][1] +=1\n",
        "\n",
        "print(\"support = number of occurences of words belonging to the class\")\n",
        "print(\"ambiguity = number of different words belonging to the class\\n\")\n",
        "for key,value in dict_all_words.items():\n",
        "  if len(value[0])>0:\n",
        "    print(POS2idx[key],key, \"  ->  support:\", value[1], \"   ambiguity:\", len(value[0]), \"    ratio:\", len(value[0])/ value[1])"
      ],
      "execution_count": null,
      "outputs": [
        {
          "output_type": "stream",
          "text": [
            "support = number of occurences of words belonging to the class\n",
            "ambiguity = number of different words belonging to the class\n",
            "\n",
            "0 VBP   ->  support: 460    ambiguity: 142     ratio: 0.30869565217391304\n",
            "1 NNPS   ->  support: 105    ambiguity: 60     ratio: 0.5714285714285714\n",
            "2 LS   ->  support: 3    ambiguity: 3     ratio: 1.0\n",
            "3 CD   ->  support: 1249    ambiguity: 436     ratio: 0.3490792634107286\n",
            "4 $   ->  support: 173    ambiguity: 2     ratio: 0.011560693641618497\n",
            "5 UH   ->  support: 2    ambiguity: 2     ratio: 1.0\n",
            "6 RBR   ->  support: 35    ambiguity: 4     ratio: 0.11428571428571428\n",
            "7 VBD   ->  support: 861    ambiguity: 243     ratio: 0.28222996515679444\n",
            "8 WRB   ->  support: 62    ambiguity: 4     ratio: 0.06451612903225806\n",
            "9 -LRB-   ->  support: 50    ambiguity: 2     ratio: 0.04\n",
            "10 POS   ->  support: 269    ambiguity: 2     ratio: 0.007434944237918215\n",
            "11 MD   ->  support: 347    ambiguity: 14     ratio: 0.040345821325648415\n",
            "12 PRP$   ->  support: 258    ambiguity: 7     ratio: 0.027131782945736434\n",
            "13 #   ->  support: 15    ambiguity: 1     ratio: 0.06666666666666667\n",
            "14 NNP   ->  support: 2704    ambiguity: 926     ratio: 0.34245562130177515\n",
            "15 TO   ->  support: 765    ambiguity: 1     ratio: 0.00130718954248366\n",
            "16 -RRB-   ->  support: 53    ambiguity: 2     ratio: 0.03773584905660377\n",
            "17 JJS   ->  support: 58    ambiguity: 14     ratio: 0.2413793103448276\n",
            "18 ''   ->  support: 225    ambiguity: 2     ratio: 0.008888888888888889\n",
            "19 DT   ->  support: 2754    ambiguity: 18     ratio: 0.006535947712418301\n",
            "20 WP$   ->  support: 4    ambiguity: 1     ratio: 0.25\n",
            "21 VB   ->  support: 956    ambiguity: 378     ratio: 0.39539748953974896\n",
            "22 PDT   ->  support: 14    ambiguity: 4     ratio: 0.2857142857142857\n",
            "23 ,   ->  support: 1528    ambiguity: 1     ratio: 0.0006544502617801048\n",
            "24 EX   ->  support: 34    ambiguity: 1     ratio: 0.029411764705882353\n",
            "25 VBG   ->  support: 476    ambiguity: 274     ratio: 0.5756302521008403\n",
            "26 RBS   ->  support: 13    ambiguity: 1     ratio: 0.07692307692307693\n",
            "27 JJ   ->  support: 1924    ambiguity: 713     ratio: 0.3705821205821206\n",
            "29 RP   ->  support: 43    ambiguity: 8     ratio: 0.18604651162790697\n",
            "30 PRP   ->  support: 570    ambiguity: 16     ratio: 0.028070175438596492\n",
            "31 FW   ->  support: 2    ambiguity: 2     ratio: 1.0\n",
            "32 IN   ->  support: 3275    ambiguity: 64     ratio: 0.019541984732824428\n",
            "33 RB   ->  support: 951    ambiguity: 232     ratio: 0.24395373291272346\n",
            "34 NNS   ->  support: 2102    ambiguity: 679     ratio: 0.3230256898192198\n",
            "35 :   ->  support: 214    ambiguity: 5     ratio: 0.02336448598130841\n",
            "36 VBN   ->  support: 737    ambiguity: 347     ratio: 0.4708276797829037\n",
            "37 .   ->  support: 1277    ambiguity: 3     ratio: 0.0023492560689115116\n",
            "38 WP   ->  support: 80    ambiguity: 3     ratio: 0.0375\n",
            "39 CC   ->  support: 758    ambiguity: 10     ratio: 0.013192612137203167\n",
            "40 JJR   ->  support: 165    ambiguity: 27     ratio: 0.16363636363636364\n",
            "41 VBZ   ->  support: 712    ambiguity: 165     ratio: 0.23174157303370788\n",
            "42 WDT   ->  support: 157    ambiguity: 4     ratio: 0.025477707006369428\n",
            "43 ``   ->  support: 230    ambiguity: 2     ratio: 0.008695652173913044\n",
            "44 NN   ->  support: 4513    ambiguity: 1269     ratio: 0.28118768003545314\n"
          ],
          "name": "stdout"
        }
      ]
    },
    {
      "cell_type": "markdown",
      "metadata": {
        "id": "A1Fr5ZKguR5V"
      },
      "source": [
        "## OOV dealing\n",
        "\n",
        "Another problem could be the way the OOV words are handled, but analysing the number of random embeddings for each tag it is not related to the f1 score.\n",
        "\n",
        "It could give an improvement but the main problem is still the small support or the ambiguity. That's why I didn't deal with OOV in a more complex way."
      ]
    },
    {
      "cell_type": "code",
      "metadata": {
        "id": "8zhtpuM7PIA2",
        "colab": {
          "base_uri": "https://localhost:8080/"
        },
        "outputId": "695641d4-7c89-4df8-9b35-7fe2dad04d51"
      },
      "source": [
        "# embedding sequence function:\n",
        "\n",
        "em_dim = 50\n",
        "download_path = \"glove-wiki-gigaword-{}\".format(em_dim)\n",
        "em_model = gloader.load(download_path)\n",
        "\n",
        "def analysys_sequence_embedding(sequence, pos_s, randoms, em_model, embedding_dim):\n",
        "\n",
        "  for idx,word in enumerate(sequence):\n",
        "    word = word.lower()\n",
        "    try:\n",
        "         a = em_model[word]\n",
        "    except: \n",
        "         randoms[pos_s[idx]] += 1\n",
        "\n",
        "  return  randoms\n",
        "\n",
        "train_df = df.loc[df['split'] == 'train']\n",
        "randoms = {key:0 for key in POS2idx.keys()}\n",
        "\n",
        "for row in train_df.iterrows():\n",
        "       s_words = row[1]['words']\n",
        "       s_pos = row[1]['POS']\n",
        "       randoms = analysys_sequence_embedding(s_words, s_pos, randoms, em_model, em_dim)\n",
        "print(\"number of random embeddings for each tag:\")\n",
        "print(randoms)\n",
        "       "
      ],
      "execution_count": null,
      "outputs": [
        {
          "output_type": "stream",
          "text": [
            "[==================================================] 100.0% 66.0/66.0MB downloaded\n",
            "number of random embeddings for each tag:\n",
            "{'#': 0, 'DT': 0, ',': 0, 'RP': 0, 'VBP': 0, '``': 0, '$': 0, '.': 0, 'WP': 0, 'VBD': 0, 'WRB': 0, 'PRP': 0, 'CC': 0, ':': 0, 'RBS': 0, 'VB': 2, 'POS': 0, 'EX': 0, 'JJ': 336, 'CD': 158, 'VBZ': 0, 'IN': 0, 'MD': 0, 'PRP$': 0, 'TO': 0, 'FW': 2, 'NN': 130, 'RB': 0, 'NNPS': 0, 'WP$': 0, 'JJR': 0, 'VBG': 0, 'LS': 0, 'PDT': 0, '-LRB-': 104, 'JJS': 0, '-RRB-': 110, 'SYM': 0, 'NNS': 52, 'WDT': 0, 'RBR': 0, 'UH': 0, 'VBN': 0, \"''\": 0, 'NNP': 360}\n"
          ],
          "name": "stdout"
        }
      ]
    },
    {
      "cell_type": "markdown",
      "metadata": {
        "id": "23OzRVbD3--F"
      },
      "source": [
        "# Final training\n",
        "I used the validation set to do some experiments. \n",
        "\n",
        "The final model can be obtained by doing a training merging the training set and the validation set."
      ]
    },
    {
      "cell_type": "markdown",
      "metadata": {
        "id": "xApNs_Vx5znx"
      },
      "source": [
        "## Data\n",
        "During the experiments the validation data was splitted in documents to give results probably more similar to the prediction on the test set which must be splitted in documents. \n",
        "\n",
        "But for the final training I use all the dataset splitted in documents AND sentences. \n",
        "\n",
        "To avoid confusions I build the datasets from the beginning:"
      ]
    },
    {
      "cell_type": "code",
      "metadata": {
        "colab": {
          "base_uri": "https://localhost:8080/"
        },
        "id": "r4rZ2eYf6cLd",
        "outputId": "a96232e4-6d4a-4868-8754-b3b5cd846795"
      },
      "source": [
        "import os\n",
        "import csv\n",
        "import pandas as pd\n",
        "from nltk import tokenize\n",
        "import nltk\n",
        "nltk.download('punkt')\n",
        "\n",
        "\n",
        "df_rows = []\n",
        "unique_POS = set({})\n",
        "total_POS = set({})\n",
        "\n",
        "folder = os.path.join(os.getcwd(), \"dataset_folder/dependency_treebank\")\n",
        "i = 0\n",
        "split = 'train'\n",
        "for filename in sorted(os.listdir(folder)):\n",
        "  if i > 149:\n",
        "    split = 'test'\n",
        "  file_path = os.path.join(folder, filename)\n",
        "  total_words = 0\n",
        "  with open(file_path, mode='r', encoding='utf-8') as document:\n",
        "                            doc = pd.read_csv(document, sep='\\t',header=None)\n",
        "                            doc.rename(columns={0: 'word', 1: 'POS', 2:'del'}, inplace=True)\n",
        "                            doc.drop('del', axis = 'columns' ,inplace= True)\n",
        "                            words_list = doc['word'].tolist()\n",
        "                            total_words += len(words_list)\n",
        "                            POS_list = doc['POS'].tolist()\n",
        "                            if split == 'train': unique_POS.update(POS_list)  # creating set of POS from training set      \n",
        "                            total_POS.update(POS_list)  # unique set of POS of all the dataset  \n",
        "                            df_row = {\"split\":split, 'doc': i, \"type\": \"document\", \"words\" : words_list, \"POS\" : POS_list}\n",
        "                            df_rows.append(df_row)\n",
        "\n",
        "                            if i<= 149:\n",
        "                              ########### split into sentences:\n",
        "                              text = ' '.join(words_list)\n",
        "                              text = text[:] # i need it as a string type\n",
        "                              n = 0\n",
        "                              sentences = tokenize.sent_tokenize(text)\n",
        "                              for sent in sentences:\n",
        "                                 spl = sent.split()\n",
        "                                 pos = POS_list[n:n+len(spl)]\n",
        "                                 df_row = {\"split\":split, 'doc': i, \"type\": \"sentence\", \"words\" : spl, \"POS\" : pos}\n",
        "                                 n += len(spl)\n",
        "                                 df_rows.append(df_row)\n",
        "  i+=1\n",
        "\n",
        "df = pd.DataFrame(df_rows)\n",
        "df.head()\n",
        "if unique_POS == total_POS: print(\"\\n GOOD NEWS: there are no POS tags in the val and train set which are not in the training set.\") \n",
        "else: print(\"BAD NEWS: val or test set contains POS tags which are not in the train set\")\n",
        "\n",
        "# create a dictionary that maps POS to indices\n",
        "POS2idx = {POS : idx for idx,POS in enumerate(unique_POS)}\n",
        "idx2POS = {idx: POS for idx,POS in enumerate(unique_POS)}\n",
        "\n",
        "\n",
        "# prepare datasets:\n",
        "train_df = df.loc[df['split'] == 'train']\n",
        "test_df = df.loc[df['split'] == 'test']\n",
        "\n",
        "\n",
        "# This will be used to get the f1 score of all the classes but the ones containing punctuation marks or symbols.\n",
        "\n",
        "punctuation_marks_tags =  [\",\", \".\", \"''\", \"``\", \":\", 'SYM', '#' ]  \n",
        "\n",
        "idx_punctuation_marks_tags = [POS2idx[tag] for tag in punctuation_marks_tags]\n",
        "\n",
        "\n",
        "idx_tag_to_be_considered = []\n",
        "for tag,tag_idx in POS2idx.items():\n",
        "    if not(tag in (punctuation_marks_tags)):\n",
        "        idx_tag_to_be_considered.append(tag_idx)"
      ],
      "execution_count": null,
      "outputs": [
        {
          "output_type": "stream",
          "text": [
            "[nltk_data] Downloading package punkt to /root/nltk_data...\n",
            "[nltk_data]   Unzipping tokenizers/punkt.zip.\n",
            "\n",
            " GOOD NEWS: there are no POS tags in the val and train set which are not in the training set.\n"
          ],
          "name": "stdout"
        }
      ]
    },
    {
      "cell_type": "markdown",
      "metadata": {
        "id": "R9pLUgff7B0d"
      },
      "source": [
        "## Hyperparameters"
      ]
    },
    {
      "cell_type": "code",
      "metadata": {
        "id": "7fRbPrFq7E0m"
      },
      "source": [
        "# ABOUT THE MODEL:\n",
        "\n",
        "hidden_dim = 128 # number of units of the LSTM/GRU\n",
        "use_CRF = True\n",
        "rnn_type = \"LSTM\"\n",
        "bidirectional = True\n",
        "num_layers = 1\n",
        "drop = 0 # dropout parameter, set to 0 to get no dropout.\n",
        "\n",
        "# OTHERS:\n",
        "embedding_dim = 300\n",
        "add_features = True\n",
        "pad_value = -1\n",
        "\n",
        "# ABOUT THE TRAINING:\n",
        "n_epochs = 20\n",
        "batch_size = 1\n",
        "\n",
        "# DEAL WITH UMBALANCED DATA:\n",
        "beta = 0.9  \n",
        "\n",
        "beta_type = \"inter_ambiguity\"       \n",
        "                                              # - \"support\" to classical weighted loss \n",
        "                                              # - \"intra_ambiguity_support\" to weight more the loss of classes with low support and high intra_ambiguity.\n",
        "                                              # - \"inter_ambiguity\" to weight more the loss of classes with high inter_ambiguity\n",
        "                                              \n",
        "use_data_augmentation = False  \n",
        "\n",
        "\n",
        "######## don't touch:\n",
        "if add_features:\n",
        "   num_features = 12 # number of features concatenated to the embedding vectors. Look the \"sequence_embedding\" function.\n",
        "   emb_dim = embedding_dim + num_features \n",
        "else:\n",
        "  num_features = 0\n",
        "  emb_dim = embedding_dim\n",
        "########\n",
        "\n",
        "model = MODELS_GENERATOR(emb_dim, hidden_dim, len(unique_POS), use_CRF, batch_size, rnn_type, bidirectional, num_layers, drop, beta, beta_type).float()\n",
        "\n",
        "# OPTIMZER:\n",
        "optimizer = optim.SGD(model.parameters(), lr=0.5, weight_decay = 0)"
      ],
      "execution_count": null,
      "outputs": []
    },
    {
      "cell_type": "markdown",
      "metadata": {
        "id": "xJqmxxV07c1m"
      },
      "source": [
        "## RUN FINAL TRAINING\n",
        "\n",
        "I can use the function \"training_and_validation\" but instead of the val_df i must use the test_df."
      ]
    },
    {
      "cell_type": "code",
      "metadata": {
        "id": "o9HduQEY7U7Q",
        "colab": {
          "base_uri": "https://localhost:8080/"
        },
        "outputId": "32f81765-4f3a-415c-8750-a157cb7ec584"
      },
      "source": [
        "################################################# train:\n",
        "best_tot_labels_test, best_tot_predictions_test, best_model_test = training_and_validation(model, train_df, test_df, n_epochs, batch_size, name = \"test\")   \n"
      ],
      "execution_count": null,
      "outputs": [
        {
          "output_type": "stream",
          "text": [
            "#epoch  1 :\n",
            "train_loss =  0.57       train_accuracy =  79.41 %       train_f1 =  0.54\n",
            "test_loss =  0.28       test_accuracy =  86.98 %       test_f1 =  0.79\n",
            "#epoch  2 :\n",
            "train_loss =  0.21       train_accuracy =  90.61 %       train_f1 =  0.69\n",
            "test_loss =  0.25       test_accuracy =  88.47 %       test_f1 =  0.79\n",
            "#epoch  3 :\n",
            "train_loss =  0.13       train_accuracy =  93.53 %       train_f1 =  0.77\n",
            "test_loss =  0.21       test_accuracy =  91.34 %       test_f1 =  0.83\n",
            "#epoch  4 :\n",
            "train_loss =  0.09       train_accuracy =  95.16 %       train_f1 =  0.79\n",
            "test_loss =  0.20       test_accuracy =  92.39 %       test_f1 =  0.89\n",
            "#epoch  5 :\n",
            "train_loss =  0.06       train_accuracy =  96.56 %       train_f1 =  0.85\n",
            "test_loss =  0.20       test_accuracy =  91.33 %       test_f1 =  0.87\n",
            "#epoch  6 :\n",
            "train_loss =  0.04       train_accuracy =  97.56 %       train_f1 =  0.84\n",
            "test_loss =  0.23       test_accuracy =  92.91 %       test_f1 =  0.90\n",
            "#epoch  7 :\n",
            "train_loss =  0.02       train_accuracy =  98.47 %       train_f1 =  0.85\n",
            "test_loss =  0.22       test_accuracy =  92.72 %       test_f1 =  0.90\n",
            "#epoch  8 :\n",
            "train_loss =  0.01       train_accuracy =  98.92 %       train_f1 =  0.84\n",
            "test_loss =  0.23       test_accuracy =  93.29 %       test_f1 =  0.91\n",
            "#epoch  9 :\n",
            "train_loss =  0.01       train_accuracy =  99.29 %       train_f1 =  0.86\n",
            "test_loss =  0.24       test_accuracy =  93.38 %       test_f1 =  0.91\n",
            "#epoch  10 :\n",
            "train_loss =  0.00       train_accuracy =  99.57 %       train_f1 =  0.92\n",
            "test_loss =  0.25       test_accuracy =  93.39 %       test_f1 =  0.91\n",
            "#epoch  11 :\n",
            "train_loss =  0.00       train_accuracy =  99.70 %       train_f1 =  0.93\n",
            "test_loss =  0.25       test_accuracy =  93.44 %       test_f1 =  0.91\n",
            "#epoch  12 :\n",
            "train_loss =  0.00       train_accuracy =  99.76 %       train_f1 =  0.94\n",
            "test_loss =  0.26       test_accuracy =  93.56 %       test_f1 =  0.91\n",
            "#epoch  13 :\n",
            "train_loss =  0.00       train_accuracy =  99.81 %       train_f1 =  0.96\n",
            "test_loss =  0.26       test_accuracy =  93.69 %       test_f1 =  0.91\n",
            "#epoch  14 :\n",
            "train_loss =  0.00       train_accuracy =  99.84 %       train_f1 =  0.96\n",
            "test_loss =  0.27       test_accuracy =  93.51 %       test_f1 =  0.91\n",
            "#epoch  15 :\n",
            "train_loss =  0.00       train_accuracy =  99.86 %       train_f1 =  0.96\n",
            "test_loss =  0.27       test_accuracy =  93.55 %       test_f1 =  0.91\n",
            "#epoch  16 :\n",
            "train_loss =  0.00       train_accuracy =  99.88 %       train_f1 =  0.97\n",
            "test_loss =  0.27       test_accuracy =  93.54 %       test_f1 =  0.91\n",
            "#epoch  17 :\n",
            "train_loss =  0.00       train_accuracy =  99.88 %       train_f1 =  0.97\n",
            "test_loss =  0.28       test_accuracy =  93.57 %       test_f1 =  0.91\n",
            "#epoch  18 :\n",
            "train_loss =  0.00       train_accuracy =  99.91 %       train_f1 =  0.99\n",
            "test_loss =  0.28       test_accuracy =  93.41 %       test_f1 =  0.91\n",
            "#epoch  19 :\n",
            "train_loss =  0.00       train_accuracy =  99.91 %       train_f1 =  1.00\n",
            "test_loss =  0.28       test_accuracy =  93.61 %       test_f1 =  0.91\n",
            "#epoch  20 :\n",
            "train_loss =  0.00       train_accuracy =  99.92 %       train_f1 =  0.99\n",
            "test_loss =  0.28       test_accuracy =  93.48 %       test_f1 =  0.91\n"
          ],
          "name": "stdout"
        }
      ]
    },
    {
      "cell_type": "markdown",
      "metadata": {
        "id": "KpnVa5iF3zr1"
      },
      "source": [
        "# Error Analysis2\n",
        "Analysis on the test set error\n",
        "\n",
        "- The test set turned out to be easier to be classified than the validation set because there are not words belonging to the \"FW\" or \"UH\" classes, which are the most difficults.\n",
        "\n",
        "- The classes \"NNPS\" and \"RBR\" are the most difficult classes to be classified, thanks to the confusion matrix we can have more insights."
      ]
    },
    {
      "cell_type": "code",
      "metadata": {
        "id": "E5K-IvNioQar",
        "colab": {
          "base_uri": "https://localhost:8080/"
        },
        "outputId": "4df778ea-23d8-41b3-ea1f-2d2cbf7ecc91"
      },
      "source": [
        "from sklearn.metrics import r2_score, mean_absolute_error, mean_squared_error\n",
        "from sklearn.metrics import classification_report, confusion_matrix, plot_confusion_matrix\n",
        "import matplotlib.pyplot as plt\n",
        "\n",
        "labels, predictions = best_tot_labels_test, best_tot_predictions_test\n",
        "report = classification_report(labels, predictions)\n",
        "print(report)\n",
        "print(POS2idx)"
      ],
      "execution_count": null,
      "outputs": [
        {
          "output_type": "stream",
          "text": [
            "              precision    recall  f1-score   support\n",
            "\n",
            "           0       0.96      0.92      0.94       134\n",
            "           1       0.50      0.52      0.51        44\n",
            "           3       0.99      0.99      0.99       858\n",
            "           4       1.00      1.00      1.00       209\n",
            "           6       0.50      0.53      0.52        15\n",
            "           7       0.95      0.96      0.95       634\n",
            "           8       0.96      0.92      0.94        24\n",
            "           9       1.00      1.00      1.00        18\n",
            "          10       0.99      0.99      0.99       152\n",
            "          11       0.95      1.00      0.98       167\n",
            "          12       1.00      1.00      1.00        99\n",
            "          14       0.94      0.85      0.89      1504\n",
            "          15       1.00      1.00      1.00       386\n",
            "          16       0.86      1.00      0.92        18\n",
            "          17       0.94      0.97      0.95        31\n",
            "          19       0.99      0.99      0.99      1335\n",
            "          20       1.00      0.75      0.86         4\n",
            "          21       0.96      0.97      0.97       403\n",
            "          22       1.00      0.75      0.86         4\n",
            "          24       0.83      1.00      0.91         5\n",
            "          25       0.86      0.90      0.88       221\n",
            "          26       1.00      1.00      1.00         3\n",
            "          27       0.86      0.82      0.84       918\n",
            "          29       0.65      0.94      0.77        33\n",
            "          30       0.99      1.00      0.99       192\n",
            "          32       0.98      0.97      0.98      1630\n",
            "          33       0.89      0.89      0.89       381\n",
            "          34       0.85      0.97      0.91       941\n",
            "          36       0.87      0.90      0.88       366\n",
            "          38       1.00      1.00      1.00        20\n",
            "          39       0.99      1.00      0.99       366\n",
            "          40       0.79      0.88      0.83        59\n",
            "          41       0.98      0.97      0.97       280\n",
            "          42       0.92      1.00      0.96        84\n",
            "          44       0.92      0.91      0.91      2383\n",
            "\n",
            "    accuracy                           0.94     13921\n",
            "   macro avg       0.91      0.92      0.91     13921\n",
            "weighted avg       0.94      0.94      0.94     13921\n",
            "\n",
            "{'VBP': 0, 'NNPS': 1, 'LS': 2, 'CD': 3, '$': 4, 'UH': 5, 'RBR': 6, 'VBD': 7, 'WRB': 8, '-LRB-': 9, 'POS': 10, 'MD': 11, 'PRP$': 12, '#': 13, 'NNP': 14, 'TO': 15, '-RRB-': 16, 'JJS': 17, \"''\": 18, 'DT': 19, 'WP$': 20, 'VB': 21, 'PDT': 22, ',': 23, 'EX': 24, 'VBG': 25, 'RBS': 26, 'JJ': 27, 'SYM': 28, 'RP': 29, 'PRP': 30, 'FW': 31, 'IN': 32, 'RB': 33, 'NNS': 34, ':': 35, 'VBN': 36, '.': 37, 'WP': 38, 'CC': 39, 'JJR': 40, 'VBZ': 41, 'WDT': 42, '``': 43, 'NN': 44}\n"
          ],
          "name": "stdout"
        }
      ]
    },
    {
      "cell_type": "markdown",
      "metadata": {
        "id": "4xqiD-65Q_YA"
      },
      "source": [
        "## Confusion matrix\n",
        "\n",
        "- The \"NNPS\" class not surprisingly is often misclassified as \"NNS\", the difference is that then first character of the NNPS words is uppercase. Some possible solutions:\n",
        "\n",
        "  1) increase the value associated to this feature in the function \"sequence_embedding\".\n",
        "\n",
        "  2) increase the weight loss associated to these two classes. \n",
        "\n",
        "- The \"RBR\" class not surprisingly is often misclassified as \"JJR\", they are really similar words. A possible solution is to increase the weight loss associated to these two classes. "
      ]
    },
    {
      "cell_type": "code",
      "metadata": {
        "id": "KxshfUL56raq",
        "colab": {
          "base_uri": "https://localhost:8080/",
          "height": 1000
        },
        "outputId": "ced2520d-f1a3-4869-d594-62ebc42a359d"
      },
      "source": [
        "from sklearn.metrics import confusion_matrix\n",
        "\n",
        "s1 = set(predictions.tolist())\n",
        "s2 = set(labels.tolist())\n",
        "s2.update(s1)\n",
        "l = list(s2)\n",
        "CM = confusion_matrix(labels, predictions)\n",
        "\n",
        "\n",
        "\n",
        "import seaborn as sn\n",
        "import pandas as pd\n",
        "import matplotlib.pyplot as plt\n",
        "\n",
        "df_cm = pd.DataFrame(CM, index = l,\n",
        "                  columns = l)\n",
        "plt.figure(figsize = (35,25))\n",
        "sn.heatmap(df_cm, annot=True)\n",
        "\n",
        "sn.set(font_scale=1.4) \n"
      ],
      "execution_count": null,
      "outputs": [
        {
          "output_type": "display_data",
          "data": {
            "image/png": "[encoded data removed]",
            "text/plain": [
              "<Figure size 2520x1800 with 2 Axes>"
            ]
          },
          "metadata": {
            "tags": [],
            "needs_background": "light"
          }
        }
      ]
    },
    {
      "cell_type": "markdown",
      "metadata": {
        "id": "UPmSwT4u_3so"
      },
      "source": [
        "# Improvements\n",
        "\n",
        "- A character level analysis.\n",
        "\n",
        "- Find more or better features.\n",
        "\n",
        "- Find other fetures on which base the weight the loss.\n"
      ]
    },
    {
      "cell_type": "markdown",
      "metadata": {
        "id": "Sfrj-lloGDsu"
      },
      "source": [
        "# Report\n",
        "The train set samples used are both documents and sequences. The val set has been splitted in documents as the test set. According to the experiments the best model is the BiLSTM + CRF, the embedding dim 300, the number of LSTM units 100-200, the batch size 1. The training converges easily with SGD (lr = 0.5), but there's overfitting. Regularization techniques didn't solve the problem. Other techniques implemented after the error analysis improved the f-score on the validation set from 0.77 to 0.80: 12 rule based features and weighted loss.\n",
        "Results on the test set: 93-94% accuracy, 0.91 f-score.\n"
      ]
    },
    {
      "cell_type": "code",
      "metadata": {
        "id": "_OYGZP_cGl3Y"
      },
      "source": [
        ""
      ],
      "execution_count": null,
      "outputs": []
    }
  ]
}